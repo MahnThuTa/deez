{
 "cells": [
  {
   "cell_type": "code",
   "execution_count": 2,
   "metadata": {},
   "outputs": [
    {
     "name": "stdout",
     "output_type": "stream",
     "text": [
      "5\n"
     ]
    }
   ],
   "source": [
    "my_music = [\"Memories\", \"Overdose\", \"Step Back\", \"Ruthless\", \"One Mor Night\"]\n",
    "print(len(my_music))\n"
   ]
  },
  {
   "cell_type": "code",
   "execution_count": 3,
   "metadata": {},
   "outputs": [
    {
     "name": "stdout",
     "output_type": "stream",
     "text": [
      "['Memories', 'Overdose', 'Murder In My Mind', 'Ruthless', 'One Mor Night']\n"
     ]
    }
   ],
   "source": [
    "my_music[1] = \"Murder In My Mind\"\n",
    "print(my_music)"
   ]
  },
  {
   "cell_type": "code",
   "execution_count": 10,
   "metadata": {},
   "outputs": [
    {
     "name": "stdout",
     "output_type": "stream",
     "text": [
      "12\n"
     ]
    }
   ],
   "source": [
    "standardHours = [12, 1, 2, 3, 4, 5, 6, 7, 8, 9, 10, 11]\n",
    "print(len(standardHours))"
   ]
  },
  {
   "cell_type": "code",
   "execution_count": 15,
   "metadata": {},
   "outputs": [
    {
     "name": "stdout",
     "output_type": "stream",
     "text": [
      "5\n",
      "Pm\n"
     ]
    }
   ],
   "source": [
    "hr_military = int(input(\"Enter military hor: \"))\n",
    "print(standardHours[hr_military - len(standardHours)])\n",
    "if hr_military >= 12:\n",
    "    print(\"Pm\")\n",
    "else:\n",
    "    print(\"Am\")    "
   ]
  }
 ],
 "metadata": {
  "kernelspec": {
   "display_name": "Python 3",
   "language": "python",
   "name": "python3"
  },
  "language_info": {
   "codemirror_mode": {
    "name": "ipython",
    "version": 3
   },
   "file_extension": ".py",
   "mimetype": "text/x-python",
   "name": "python",
   "nbconvert_exporter": "python",
   "pygments_lexer": "ipython3",
   "version": "3.10.8"
  },
  "orig_nbformat": 4,
  "vscode": {
   "interpreter": {
    "hash": "fbc768028c3e6ead51d9a200ddcb2ec858ae62844dcd1994729a8279be9b48f2"
   }
  }
 },
 "nbformat": 4,
 "nbformat_minor": 2
}
