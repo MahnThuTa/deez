{
 "cells": [
  {
   "cell_type": "code",
   "execution_count": 5,
   "metadata": {},
   "outputs": [
    {
     "name": "stdout",
     "output_type": "stream",
     "text": [
      "fee\n",
      "fee\n",
      "fee\n",
      "fee\n"
     ]
    }
   ],
   "source": [
    "# Assignment 1\n",
    "name = str(input(\"Enter your name:\"))\n",
    "num = int(input(\"Pick a random number:\"))\n",
    "if num < 10:\n",
    "    for i in range(num):\n",
    "        print(name)\n",
    "else:\n",
    "    for m in range(3):\n",
    "        print(\"Number is too high!\")"
   ]
  },
  {
   "cell_type": "code",
   "execution_count": 27,
   "metadata": {},
   "outputs": [
    {
     "name": "stdout",
     "output_type": "stream",
     "text": [
      "9\n"
     ]
    }
   ],
   "source": [
    "# Assignment 2\n",
    "i = 0\n",
    "for i in range(5):\n",
    "    number = int(input(\"Pick a number\"))\n",
    "    yesorno = input(\"Add this number: Yes Or No\")\n",
    "    if yesorno == \"Yes\" or yesorno == \"YES\" or yesorno == \"yes\":\n",
    "        final = number + i\n",
    "print(final)"
   ]
  },
  {
   "cell_type": "code",
   "execution_count": null,
   "metadata": {},
   "outputs": [],
   "source": [
    "# Assignment 3\n",
    "dir = input(\"Which direction do you want to count? \")\n",
    "if dir == \"up\" or dir == \"UP\" or dir == \"up\":\n",
    "    max_num = int(input(\"Input your maximum number \"))\n",
    "    for i in range (1 , max_num+1):\n",
    "        print(i)\n",
    "elif dir == \"down\" or dir == \"DOWN\" or dir == \"Down\":\n",
    "    min_num = int(input(\"Input a number below 20 \"))\n",
    "    for m in range (20 , min_num-1, -1):\n",
    "        print(m)\n",
    "else:\n",
    "    print(\"I don't understand\")"
   ]
  },
  {
   "cell_type": "code",
   "execution_count": null,
   "metadata": {},
   "outputs": [],
   "source": [
    "# Assignment 4\n",
    "invite = int(input(\"How many people would you like to invite?\"))\n",
    "if invite < 10:\n",
    "    for i in range(invite):\n",
    "        name = str(input(\"Who would you like to invite?\"))\n",
    "        print(f\"{name} has been invited\")\n",
    "elif invite > 10:\n",
    "    print(\"Too many people!\")"
   ]
  }
 ],
 "metadata": {
  "kernelspec": {
   "display_name": "Python 3",
   "language": "python",
   "name": "python3"
  },
  "language_info": {
   "codemirror_mode": {
    "name": "ipython",
    "version": 3
   },
   "file_extension": ".py",
   "mimetype": "text/x-python",
   "name": "python",
   "nbconvert_exporter": "python",
   "pygments_lexer": "ipython3",
   "version": "3.10.8"
  },
  "orig_nbformat": 4,
  "vscode": {
   "interpreter": {
    "hash": "fbc768028c3e6ead51d9a200ddcb2ec858ae62844dcd1994729a8279be9b48f2"
   }
  }
 },
 "nbformat": 4,
 "nbformat_minor": 2
}
