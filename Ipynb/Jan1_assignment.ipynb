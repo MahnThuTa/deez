{
 "cells": [
  {
   "cell_type": "code",
   "execution_count": 3,
   "metadata": {},
   "outputs": [
    {
     "name": "stdout",
     "output_type": "stream",
     "text": [
      "dee\n",
      "dee\n",
      "dee\n",
      "dee\n",
      "dee\n"
     ]
    }
   ],
   "source": [
    "# Assignment 1\n",
    "name = str(input(\"Enter your name:\"))\n",
    "num = int(input(\"Pick a random number:\"))\n",
    "if num < 10:\n",
    "    for i in range(num):\n",
    "        print(name)\n",
    "else:\n",
    "    for m in range(3):\n",
    "        print(\"Number is too high!\")"
   ]
  },
  {
   "cell_type": "code",
   "execution_count": 1,
   "metadata": {},
   "outputs": [
    {
     "name": "stdout",
     "output_type": "stream",
     "text": [
      "Total:  4\n"
     ]
    }
   ],
   "source": [
    "# Assignment 2\n",
    "total=0\n",
    "for b in range(5):\n",
    "    number=int(input('Put a number:'))\n",
    "    answer=input(\"Do you want that number included? yes or no:\")\n",
    "    if answer==\"yes\" or answer== \"Yes\":\n",
    "        total += number\n",
    "print('Total: ',total)"
   ]
  },
  {
   "cell_type": "code",
   "execution_count": 9,
   "metadata": {},
   "outputs": [
    {
     "name": "stdout",
     "output_type": "stream",
     "text": [
      "1\n"
     ]
    }
   ],
   "source": [
    "# Assignment 2\n",
    "total=0\n",
    "for b in range(5):\n",
    "    number=int(input('Put a number:'))\n",
    "    answer=input(\"Do you want that number included? yess or no:\")\n",
    "    if answer==\"yes\" or answer== \"Yes\":\n",
    "        final = total + number\n",
    "print(final)"
   ]
  },
  {
   "cell_type": "code",
   "execution_count": null,
   "metadata": {},
   "outputs": [],
   "source": [
    "# Assignment 3\n",
    "dir = input(\"Which direction do you want to count? \")\n",
    "if dir == \"up\" or dir == \"UP\" or dir == \"up\":\n",
    "    max_num = int(input(\"Input your maximum number \"))\n",
    "    for i in range (1 , max_num+1):\n",
    "        print(i)\n",
    "elif dir == \"down\" or dir == \"DOWN\" or dir == \"Down\":\n",
    "    min_num = int(input(\"Input a number below 20 \"))\n",
    "    for m in range (20 , min_num-1, -1):\n",
    "        print(m)\n",
    "else:\n",
    "    print(\"I don't understand\")"
   ]
  },
  {
   "cell_type": "code",
   "execution_count": 8,
   "metadata": {},
   "outputs": [
    {
     "name": "stdout",
     "output_type": "stream",
     "text": [
      "lin has been invited\n",
      "shine has been invited\n",
      "bbb has been invited\n"
     ]
    }
   ],
   "source": [
    "# Assignment 4\n",
    "invite = int(input(\"How many people would you like to invite?\"))\n",
    "if invite < 10:\n",
    "    for i in range(invite):\n",
    "        name = input(\"Who would you like to invite?\")\n",
    "        print(f\"{name} has been invited\")\n",
    "elif invite >= 10:\n",
    "    print(\"Too many people!\")"
   ]
  }
 ],
 "metadata": {
  "kernelspec": {
   "display_name": "Python 3",
   "language": "python",
   "name": "python3"
  },
  "language_info": {
   "codemirror_mode": {
    "name": "ipython",
    "version": 3
   },
   "file_extension": ".py",
   "mimetype": "text/x-python",
   "name": "python",
   "nbconvert_exporter": "python",
   "pygments_lexer": "ipython3",
   "version": "3.10.8 (tags/v3.10.8:aaaf517, Oct 11 2022, 16:50:30) [MSC v.1933 64 bit (AMD64)]"
  },
  "orig_nbformat": 4,
  "vscode": {
   "interpreter": {
    "hash": "fbc768028c3e6ead51d9a200ddcb2ec858ae62844dcd1994729a8279be9b48f2"
   }
  }
 },
 "nbformat": 4,
 "nbformat_minor": 2
}
