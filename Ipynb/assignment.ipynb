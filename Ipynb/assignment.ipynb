{
 "cells": [
  {
   "cell_type": "code",
   "execution_count": 2,
   "metadata": {},
   "outputs": [
    {
     "name": "stdout",
     "output_type": "stream",
     "text": [
      "Too high!\n",
      "Too high!\n",
      "Too low!\n",
      "Too high!\n",
      "Too high!\n",
      "Too high!\n",
      "Too high!\n",
      "Too low!\n",
      "Correct!\n"
     ]
    }
   ],
   "source": [
    "# Assignment 1\n",
    "import random\n",
    "r = random.randint(1,99)\n",
    "while True:\n",
    "    guess = int(input(\"Input a number betwen 1 and 100 \"))\n",
    "    if guess > r:\n",
    "        print(\"Too high!\")\n",
    "    elif guess < r:\n",
    "        print(\"Too low!\")\n",
    "    else:\n",
    "        print(\"Correct!\")\n",
    "        break"
   ]
  },
  {
   "cell_type": "code",
   "execution_count": 35,
   "metadata": {},
   "outputs": [
    {
     "name": "stdout",
     "output_type": "stream",
     "text": [
      "36\n"
     ]
    }
   ],
   "source": [
    "# Assignment 2\n",
    "list = [1, 5, 23, 26, 43, 6594, 456, 424]\n",
    "print(list[0] + list[1] + list[2]+ list[3]+ list[4]+ list[5]+ list[6]+ list[7])"
   ]
  },
  {
   "cell_type": "code",
   "execution_count": 12,
   "metadata": {},
   "outputs": [
    {
     "name": "stdout",
     "output_type": "stream",
     "text": [
      "atbay\n"
     ]
    }
   ],
   "source": [
    "# Assignment 3\n",
    "usr_wrd = input(\"Input an English letter (all small) \")\n",
    "first = usr_wrd[0]\n",
    "lst = usr_wrd[1::]\n",
    "if first == \"a\" or first == \"e\" or first == \"i\" or first == \"o\" or first == \"u\":\n",
    "    print(usr_wrd + \"way\")\n",
    "else:\n",
    "    print(lst + first + \"ay\")"
   ]
  },
  {
   "cell_type": "code",
   "execution_count": 15,
   "metadata": {},
   "outputs": [
    {
     "name": "stdout",
     "output_type": "stream",
     "text": [
      "[1, 5]\n",
      "['a', 'd']\n"
     ]
    }
   ],
   "source": [
    "# Assignment 4\n",
    "mylist = [1,2,3,4,5]\n",
    "print(mylist[0::4])\n",
    "mylist2 = ['a','b','c','d']\n",
    "print(mylist2[0::3])"
   ]
  },
  {
   "cell_type": "code",
   "execution_count": 13,
   "metadata": {},
   "outputs": [
    {
     "name": "stdout",
     "output_type": "stream",
     "text": [
      "['ba', 'coding', 'football']\n"
     ]
    }
   ],
   "source": [
    "# Assignment 5 \n",
    "hobbies = [ \"football\",\"coding\"]\n",
    "user_hobby = input(\"What is your favourite hobby?\")\n",
    "hobbies.append(user_hobby)\n",
    "hobbies.sort()\n",
    "print(hobbies)"
   ]
  },
  {
   "cell_type": "code",
   "execution_count": 18,
   "metadata": {},
   "outputs": [
    {
     "name": "stdout",
     "output_type": "stream",
     "text": [
      "['Myanmar', 'Math', 'History', 'Geography', 'Science']\n"
     ]
    }
   ],
   "source": [
    "# Assignment 6\n",
    "sub = ['Myanmar', \"English\", \"Math\", \"History\", \"Geography\", \"Science\"]\n",
    "dele_sub = input(\"Which subject you don't like the most?\")\n",
    "if dele_sub in sub:\n",
    "    sub.remove(dele_sub)\n",
    "print(sub)"
   ]
  }
 ],
 "metadata": {
  "kernelspec": {
   "display_name": "Python 3",
   "language": "python",
   "name": "python3"
  },
  "language_info": {
   "codemirror_mode": {
    "name": "ipython",
    "version": 3
   },
   "file_extension": ".py",
   "mimetype": "text/x-python",
   "name": "python",
   "nbconvert_exporter": "python",
   "pygments_lexer": "ipython3",
   "version": "3.10.8 (tags/v3.10.8:aaaf517, Oct 11 2022, 16:50:30) [MSC v.1933 64 bit (AMD64)]"
  },
  "orig_nbformat": 4,
  "vscode": {
   "interpreter": {
    "hash": "fbc768028c3e6ead51d9a200ddcb2ec858ae62844dcd1994729a8279be9b48f2"
   }
  }
 },
 "nbformat": 4,
 "nbformat_minor": 2
}
