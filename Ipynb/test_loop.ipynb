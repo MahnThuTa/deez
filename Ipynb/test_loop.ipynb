{
 "cells": [
  {
   "cell_type": "code",
   "execution_count": 34,
   "metadata": {},
   "outputs": [
    {
     "name": "stdout",
     "output_type": "stream",
     "text": [
      "101\n",
      "102\n",
      "103\n",
      "104\n",
      "105\n",
      "106\n",
      "107\n",
      "108\n",
      "109\n",
      "110\n",
      "Oh!It's 110.\n"
     ]
    }
   ],
   "source": [
    "number = 100\n",
    "for number in range(101,115):\n",
    "    print(number)\n",
    "    if number == 110:\n",
    "        print(\"Oh!It's 110.\")\n",
    "        break\n"
   ]
  },
  {
   "cell_type": "code",
   "execution_count": 35,
   "metadata": {},
   "outputs": [
    {
     "name": "stdout",
     "output_type": "stream",
     "text": [
      "100\n",
      "102\n",
      "104\n",
      "106\n",
      "108\n",
      "110\n",
      "Let's stop here.\n"
     ]
    }
   ],
   "source": [
    "for number in range(100,120,2):\n",
    "    print(number)\n",
    "    if number == 110:\n",
    "        print(\"Let's stop here.\")\n",
    "        break"
   ]
  },
  {
   "cell_type": "code",
   "execution_count": 36,
   "metadata": {},
   "outputs": [
    {
     "name": "stdout",
     "output_type": "stream",
     "text": [
      "1\n",
      "Aswer: 2\n",
      "2\n",
      "Aswer: 22\n",
      "3\n",
      "Aswer: 222\n",
      "4\n",
      "Aswer: 2222\n",
      "5\n",
      "Aswer: 22222\n",
      "6\n",
      "Aswer: 222222\n",
      "7\n",
      "Aswer: 2222222\n",
      "8\n",
      "Aswer: 22222222\n",
      "9\n",
      "Aswer: 222222222\n",
      "10\n",
      "Aswer: 2222222222\n",
      "11\n",
      "Aswer: 22222222222\n",
      "12\n",
      "Aswer: 222222222222\n"
     ]
    }
   ],
   "source": [
    "num = input()\n",
    "final_multi = 1\n",
    "for i in range(1,13):\n",
    "    print(i)\n",
    "    final_multi = num * i\n",
    "    print(\"Aswer:\", final_multi)\n",
    "\n"
   ]
  },
  {
   "cell_type": "code",
   "execution_count": 45,
   "metadata": {},
   "outputs": [
    {
     "name": "stdout",
     "output_type": "stream",
     "text": [
      "2\n",
      "6\n",
      "10\n",
      "14\n",
      "18\n",
      "22\n",
      "26\n"
     ]
    }
   ],
   "source": [
    "numb = 2\n",
    "for i in range(1,14,2):\n",
    "    final_multi = numb * i\n",
    "    print(final_multi)"
   ]
  }
 ],
 "metadata": {
  "kernelspec": {
   "display_name": "Python 3",
   "language": "python",
   "name": "python3"
  },
  "language_info": {
   "codemirror_mode": {
    "name": "ipython",
    "version": 3
   },
   "file_extension": ".py",
   "mimetype": "text/x-python",
   "name": "python",
   "nbconvert_exporter": "python",
   "pygments_lexer": "ipython3",
   "version": "3.10.8 (tags/v3.10.8:aaaf517, Oct 11 2022, 16:50:30) [MSC v.1933 64 bit (AMD64)]"
  },
  "orig_nbformat": 4,
  "vscode": {
   "interpreter": {
    "hash": "fbc768028c3e6ead51d9a200ddcb2ec858ae62844dcd1994729a8279be9b48f2"
   }
  }
 },
 "nbformat": 4,
 "nbformat_minor": 2
}
